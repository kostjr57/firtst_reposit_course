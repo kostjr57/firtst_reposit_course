{
 "cells": [
  {
   "cell_type": "code",
   "execution_count": 7,
   "metadata": {},
   "outputs": [
    {
     "name": "stdout",
     "output_type": "stream",
     "text": [
      "Mean = 1.1138273799447906\n"
     ]
    },
    {
     "data": {
      "image/png": "[encoded data removed]",
      "text/plain": [
       "<Figure size 432x288 with 1 Axes>"
      ]
     },
     "metadata": {
      "needs_background": "light"
     },
     "output_type": "display_data"
    },
    {
     "data": {
      "image/png": "[encoded data removed]",
      "text/plain": [
       "<Figure size 432x288 with 1 Axes>"
      ]
     },
     "metadata": {
      "needs_background": "light"
     },
     "output_type": "display_data"
    },
    {
     "data": {
      "text/plain": [
       "Ks_2sampResult(statistic=0.039, pvalue=0.43260886958153144)"
      ]
     },
     "execution_count": 7,
     "metadata": {},
     "output_type": "execute_result"
    }
   ],
   "source": [
    "#K-S test for two samples Module\n",
    "from scipy.stats import ks_2samp\n",
    "import numpy as np\n",
    "import matplotlib.pyplot as plt\n",
    "import pandas as pd\n",
    "\n",
    "np.random.seed(123456)\n",
    "alpha, xm = 83, 1.1 #shape and mode\n",
    "alpha2, xm2 = 86, 1.1  # shape and mode\n",
    "s = (np.random.pareto(alpha, 1000) + 1) * xm\n",
    "s2 = (np.random.pareto(alpha2, 1000) + 1) * xm2\n",
    "\n",
    "print(f'Mean = {s.mean()}')\n",
    "\n",
    "count, bins, _ = plt.hist(s, 100, density=True)\n",
    "fit = alpha*xm**alpha / bins**(alpha+1)\n",
    "plt.plot(bins, max(count)*fit/max(fit), linewidth=2, color='r')\n",
    "plt.show()\n",
    "\n",
    "count, bins, _ = plt.hist(s2, 100, density=True)\n",
    "fit = alpha2*xm2**alpha2 / bins**(alpha2+1)\n",
    "plt.plot(bins, max(count)*fit/max(fit), linewidth=2, color='r')\n",
    "plt.show()\n",
    "\n",
    "\n",
    "ks_2samp(s2, s)\n"
   ]
  },
  {
   "cell_type": "code",
   "execution_count": 57,
   "metadata": {},
   "outputs": [
    {
     "name": "stdout",
     "output_type": "stream",
     "text": [
      "60615\n"
     ]
    },
    {
     "data": {
      "text/html": [
       "<div>\n",
       "<style scoped>\n",
       "    .dataframe tbody tr th:only-of-type {\n",
       "        vertical-align: middle;\n",
       "    }\n",
       "\n",
       "    .dataframe tbody tr th {\n",
       "        vertical-align: top;\n",
       "    }\n",
       "\n",
       "    .dataframe thead th {\n",
       "        text-align: right;\n",
       "    }\n",
       "</style>\n",
       "<table border=\"1\" class=\"dataframe\">\n",
       "  <thead>\n",
       "    <tr style=\"text-align: right;\">\n",
       "      <th></th>\n",
       "      <th>Topic / Item</th>\n",
       "      <th>Count</th>\n",
       "      <th>Average</th>\n",
       "      <th>Min val</th>\n",
       "      <th>Max val</th>\n",
       "      <th>Rate (ms)</th>\n",
       "      <th>Percent</th>\n",
       "      <th>Burst rate</th>\n",
       "      <th>Burst start</th>\n",
       "    </tr>\n",
       "  </thead>\n",
       "  <tbody>\n",
       "    <tr>\n",
       "      <td>0</td>\n",
       "      <td>Packet Lengths</td>\n",
       "      <td>60615</td>\n",
       "      <td>814.80</td>\n",
       "      <td>42</td>\n",
       "      <td>52431</td>\n",
       "      <td>0.2261</td>\n",
       "      <td>100%</td>\n",
       "      <td>16.6100</td>\n",
       "      <td>116.663</td>\n",
       "    </tr>\n",
       "    <tr>\n",
       "      <td>3</td>\n",
       "      <td>40-79</td>\n",
       "      <td>24006</td>\n",
       "      <td>54.64</td>\n",
       "      <td>42</td>\n",
       "      <td>79</td>\n",
       "      <td>0.0896</td>\n",
       "      <td>39.60%</td>\n",
       "      <td>6.5800</td>\n",
       "      <td>116.664</td>\n",
       "    </tr>\n",
       "    <tr>\n",
       "      <td>4</td>\n",
       "      <td>80-159</td>\n",
       "      <td>1708</td>\n",
       "      <td>114.98</td>\n",
       "      <td>80</td>\n",
       "      <td>159</td>\n",
       "      <td>0.0064</td>\n",
       "      <td>2.82%</td>\n",
       "      <td>0.2900</td>\n",
       "      <td>112.883</td>\n",
       "    </tr>\n",
       "    <tr>\n",
       "      <td>5</td>\n",
       "      <td>160-319</td>\n",
       "      <td>1082</td>\n",
       "      <td>225.80</td>\n",
       "      <td>160</td>\n",
       "      <td>319</td>\n",
       "      <td>0.0040</td>\n",
       "      <td>1.79%</td>\n",
       "      <td>0.4000</td>\n",
       "      <td>112.765</td>\n",
       "    </tr>\n",
       "    <tr>\n",
       "      <td>6</td>\n",
       "      <td>320-639</td>\n",
       "      <td>2146</td>\n",
       "      <td>487.57</td>\n",
       "      <td>320</td>\n",
       "      <td>639</td>\n",
       "      <td>0.0080</td>\n",
       "      <td>3.54%</td>\n",
       "      <td>0.5000</td>\n",
       "      <td>1.129</td>\n",
       "    </tr>\n",
       "    <tr>\n",
       "      <td>7</td>\n",
       "      <td>640-1279</td>\n",
       "      <td>2847</td>\n",
       "      <td>965.37</td>\n",
       "      <td>641</td>\n",
       "      <td>1269</td>\n",
       "      <td>0.0106</td>\n",
       "      <td>4.70%</td>\n",
       "      <td>0.7400</td>\n",
       "      <td>126.126</td>\n",
       "    </tr>\n",
       "    <tr>\n",
       "      <td>8</td>\n",
       "      <td>1280-2559</td>\n",
       "      <td>28802</td>\n",
       "      <td>1509.61</td>\n",
       "      <td>1283</td>\n",
       "      <td>2108</td>\n",
       "      <td>0.1075</td>\n",
       "      <td>47.52%</td>\n",
       "      <td>8.8900</td>\n",
       "      <td>116.663</td>\n",
       "    </tr>\n",
       "    <tr>\n",
       "      <td>9</td>\n",
       "      <td>2560-5119</td>\n",
       "      <td>8</td>\n",
       "      <td>3547.00</td>\n",
       "      <td>2607</td>\n",
       "      <td>4892</td>\n",
       "      <td>0.0000</td>\n",
       "      <td>0.01%</td>\n",
       "      <td>0.0200</td>\n",
       "      <td>0.973</td>\n",
       "    </tr>\n",
       "    <tr>\n",
       "      <td>10</td>\n",
       "      <td>5120 and greater</td>\n",
       "      <td>16</td>\n",
       "      <td>20860.88</td>\n",
       "      <td>10132</td>\n",
       "      <td>52431</td>\n",
       "      <td>0.0001</td>\n",
       "      <td>0.03%</td>\n",
       "      <td>0.0200</td>\n",
       "      <td>36.813</td>\n",
       "    </tr>\n",
       "  </tbody>\n",
       "</table>\n",
       "</div>"
      ],
      "text/plain": [
       "        Topic / Item  Count   Average Min val Max val  Rate (ms) Percent  \\\n",
       "0     Packet Lengths  60615    814.80      42   52431     0.2261    100%   \n",
       "3              40-79  24006     54.64      42      79     0.0896  39.60%   \n",
       "4             80-159   1708    114.98      80     159     0.0064   2.82%   \n",
       "5            160-319   1082    225.80     160     319     0.0040   1.79%   \n",
       "6            320-639   2146    487.57     320     639     0.0080   3.54%   \n",
       "7           640-1279   2847    965.37     641    1269     0.0106   4.70%   \n",
       "8          1280-2559  28802   1509.61    1283    2108     0.1075  47.52%   \n",
       "9          2560-5119      8   3547.00    2607    4892     0.0000   0.01%   \n",
       "10  5120 and greater     16  20860.88   10132   52431     0.0001   0.03%   \n",
       "\n",
       "   Burst rate Burst start  \n",
       "0     16.6100     116.663  \n",
       "3      6.5800     116.664  \n",
       "4      0.2900     112.883  \n",
       "5      0.4000     112.765  \n",
       "6      0.5000       1.129  \n",
       "7      0.7400     126.126  \n",
       "8      8.8900     116.663  \n",
       "9      0.0200       0.973  \n",
       "10     0.0200      36.813  "
      ]
     },
     "execution_count": 57,
     "metadata": {},
     "output_type": "execute_result"
    }
   ],
   "source": [
    "#upload from wireshark and parsing module\n",
    "df = pd.read_csv('wireshark.csv')\n",
    "#drop useless columns\n",
    "df = df.iloc[:, 2:-1]\n",
    "df = df[df.Count != 0]\n",
    "df\n",
    "\n",
    "count = df.Count[0]\n",
    "print(count)\n",
    "\n",
    "Empiric = [0 for _ in range(count)]\n",
    "for i in range(count):\n",
    "    Empiric[i] = np.random.uniform(40, 79)\n",
    "for i in range(396,882):\n",
    "    Empiric[i] = np.random.uniform(40, 79)\n",
    "    \n",
    "   "
   ]
  },
  {
   "cell_type": "code",
   "execution_count": null,
   "metadata": {},
   "outputs": [],
   "source": []
  }
 ],
 "metadata": {
  "kernelspec": {
   "display_name": "Python 3",
   "language": "python",
   "name": "python3"
  },
  "language_info": {
   "codemirror_mode": {
    "name": "ipython",
    "version": 3
   },
   "file_extension": ".py",
   "mimetype": "text/x-python",
   "name": "python",
   "nbconvert_exporter": "python",
   "pygments_lexer": "ipython3",
   "version": "3.7.4"
  }
 },
 "nbformat": 4,
 "nbformat_minor": 2
}
